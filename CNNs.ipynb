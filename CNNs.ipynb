{
  "cells": [
    {
      "cell_type": "code",
      "execution_count": null,
      "metadata": {
        "colab": {
          "base_uri": "https://localhost:8080/"
        },
        "id": "ApjavDgtlWAc",
        "outputId": "b462e124-cbd6-48c4-f53a-64c517fd61cf"
      },
      "outputs": [
        {
          "name": "stdout",
          "output_type": "stream",
          "text": [
            "Mounted at /content/drive\n"
          ]
        }
      ],
      "source": [
        "from google.colab import drive\n",
        "drive.mount('/content/drive')"
      ]
    },
    {
      "cell_type": "markdown",
      "metadata": {
        "id": "G46vm1oYPcmA"
      },
      "source": [
        "# <h1 style='background:#4686C8; border:0; color:#5CE1E6'><center>SUDOKU PUZZLE </center></h1>\n",
        "\n",
        "For this project, I am going to solve a sudoku puzzle from an image of an unsolved puzzle.\n",
        "\n",
        "![Green and Blue Illustrative Technology Business Plan Presentation (3).png](attachment:6b11dbd1-adc1-4987-8934-8f18e37d2cc6.png)\n",
        "\n",
        "The project is divided into three parts\n",
        "\n",
        "**Part One: Digit Classification Model**\n",
        "\n",
        "Build and train a neural network on the Chars74K image dataset for digits. This will be further used in classifying the digits in the image.\n",
        "\n",
        "**Part Two: Detecting And Reading The Sudoku From An Image**\n",
        "\n",
        "Identify the sudoku puzzle in an image using OpenCV-library.\n",
        "Classify the digits in the detected sudoku puzzle using the model made in part one.\n",
        "Getting the values of the cells in the sudoku in for of array.\n",
        "\n",
        "**Part Three: Solving The Puzzle**\n",
        "\n",
        "The array is converted into matrix.\n",
        "The given puzzle is are solved using recursion.\n",
        "\n",
        "\n",
        "   <a id='top'></a>\n",
        "<div class=\"list-group\" id=\"list-tab\" role=\"tablist\">\n",
        "<h1 style='background:#4686C8; border:0; color:#5CE1E6'><center>TABLE OF CONTENTS</center></h1>\n",
        "\n",
        "[1. IMPORTING LIBRARIES](#1)\n",
        "    \n",
        "[2. PART ONE: DIGIT CLASSIFICATION MODEL](#2)    \n",
        "\n",
        "[3. LOADING DATA](#3)        \n",
        "\n",
        "[4. SPLITTING DATASET](#4)\n",
        "\n",
        "[5. MODEL BUILDING](#5)\n",
        "\n",
        "[6. PART TWO: READING THE SUDOKU PUZZLE](#6)\n",
        "    \n",
        "[7. DETECTING CONTOUR](#7)    \n",
        "\n",
        "[8. SPLITTING THE CELLS AND CLASSIFYING DIGITS](#8)        \n",
        "\n",
        "[9. PART THREE: SOLVING THE SUDOKU](#9)\n",
        "\n",
        "[10. END](#10)\n",
        "    \n",
        "    \n",
        " <a id=\"1\"></a>\n",
        "# **<span style=\"color:#4686C8;\">IMPORTING LIBRARIES</span>**\n"
      ]
    },
    {
      "cell_type": "code",
      "execution_count": null,
      "metadata": {
        "id": "ovR4P_P5PcmD",
        "trusted": true
      },
      "outputs": [],
      "source": [
        "#Loading Libraries\n",
        "\n",
        "import numpy as np\n",
        "import pandas as pd\n",
        "import seaborn as sns\n",
        "import matplotlib.pyplot as plt\n",
        "import os, random\n",
        "import cv2\n",
        "from glob import glob\n",
        "import sklearn\n",
        "from sklearn.model_selection import train_test_split\n",
        "import tensorflow as tf\n",
        "from tensorflow import keras\n",
        "from tensorflow.keras.preprocessing.image import ImageDataGenerator\n",
        "from keras.preprocessing.image import ImageDataGenerator, load_img\n",
        "from tensorflow.keras.utils import to_categorical\n",
        "from tensorflow.keras.models import Sequential\n",
        "from tensorflow.keras.layers import Activation, Dropout, Dense, Flatten, BatchNormalization, Conv2D, MaxPooling2D\n",
        "from tensorflow.keras.optimizers import RMSprop\n",
        "from tensorflow.keras import backend as K\n",
        "from tensorflow.keras.preprocessing import image\n",
        "from sklearn.metrics import accuracy_score, classification_report\n",
        "from pathlib import Path\n",
        "from PIL import Image"
      ]
    },
    {
      "cell_type": "markdown",
      "metadata": {
        "id": "BGdij7QOPcmE"
      },
      "source": [
        "![Green and Blue Illustrative Technology Business Plan Presentation (4).png](attachment:ba7e78b7-addc-4121-8b1b-4c1bb50ddcf7.png)\n",
        "\n",
        " <h1 style='background:#4686C8; border:0; color:#5CE1E6'><center>PART ONE</center></h1>\n",
        "\n",
        "<a id=\"2\"></a>\n",
        "# **<span style=\"color:#4686C8;\">DIGIT CLASSIFICATION MODEL</span>**\n",
        "\n",
        "**In this section:**\n",
        "\n",
        "* Loading Data\n",
        "* Splitting The Test Train And Validation Sets\n",
        "* Preprocessing The Data\n",
        "* Model Building And Training\n",
        "\n",
        "<a id=\"3\"></a>\n",
        "# **<span style=\"color:#4686C8;\">LOADING DATA</span>**\n",
        "\n",
        "The dataset of images is used for building a suitable model to classify numbers in an image. Data is then specified as features(the image) and labels(the tags)."
      ]
    },
    {
      "cell_type": "code",
      "execution_count": null,
      "metadata": {
        "id": "zv8Cf5M-2wKh"
      },
      "outputs": [],
      "source": [
        "aug_train = ImageDataGenerator(\n",
        "        featurewise_center=False,  # set input mean to 0 over the dataset\n",
        "        samplewise_center=False,  # set each sample mean to 0\n",
        "        featurewise_std_normalization=False,  # divide inputs by std of the dataset\n",
        "        samplewise_std_normalization=False,  # divide each input by its std\n",
        "        zca_whitening=False,  # apply ZCA whitening\n",
        "        rotation_range=10,  # randomly rotate images in the range (degrees, 0 to 180)\n",
        "        zoom_range = 0.1, # Randomly zoom image\n",
        "        width_shift_range=0.1,  # randomly shift images horizontally (fraction of total width)\n",
        "        height_shift_range=0.1,  # randomly shift images vertically (fraction of total height)\n",
        "        horizontal_flip=False,  # randomly flip images\n",
        "        vertical_flip=False,   # randomly flip images\n",
        "        rescale=1/255)"
      ]
    },
    {
      "cell_type": "code",
      "execution_count": null,
      "metadata": {
        "colab": {
          "base_uri": "https://localhost:8080/"
        },
        "id": "6xwvLAV-3GtO",
        "outputId": "fe5f9452-dc3c-48d6-ffab-228c71892b0f"
      },
      "outputs": [
        {
          "name": "stdout",
          "output_type": "stream",
          "text": [
            "Found 10170 images belonging to 10 classes.\n"
          ]
        }
      ],
      "source": [
        "aug_train_dataset0 = aug_train.flow_from_directory(\"/content/drive/MyDrive/Colab Notebooks/myResearch/input/digits/Digits\",\n",
        "                                          target_size=(28, 28),\n",
        "                                          batch_size = 32,\n",
        "                                          class_mode = 'categorical')"
      ]
    },
    {
      "cell_type": "code",
      "execution_count": null,
      "metadata": {
        "colab": {
          "base_uri": "https://localhost:8080/"
        },
        "id": "tJMjkGN63bFv",
        "outputId": "4395a2ae-0435-492a-dcaf-eeda44d941e4"
      },
      "outputs": [
        {
          "data": {
            "text/plain": [
              "keras.src.preprocessing.image.DirectoryIterator"
            ]
          },
          "execution_count": 132,
          "metadata": {},
          "output_type": "execute_result"
        }
      ],
      "source": [
        "type(aug_train_dataset0)"
      ]
    },
    {
      "cell_type": "code",
      "execution_count": null,
      "metadata": {
        "colab": {
          "base_uri": "https://localhost:8080/"
        },
        "id": "m8YmI_omPcmE",
        "outputId": "6f9c8520-b3b0-41f9-ccf3-f2371c81b642",
        "trusted": true
      },
      "outputs": [
        {
          "name": "stdout",
          "output_type": "stream",
          "text": [
            "Total Dataponits =  10170\n"
          ]
        }
      ],
      "source": [
        "#Loading the data\n",
        "\n",
        "data = os.listdir(\"/content/drive/MyDrive/Colab Notebooks/myResearch/input/digits/Digits\" )\n",
        "# print(data)\n",
        "data_X = []\n",
        "data_y = []\n",
        "data_classes = len(data)\n",
        "for i in range (0,data_classes):\n",
        "  data_list = os.listdir(\"/content/drive/MyDrive/Colab Notebooks/myResearch/input/digits/Digits\" +\"/\"+str(i))\n",
        "  # print(data_list)\n",
        "  for j in data_list:\n",
        "    # print(j)\n",
        "    pic = cv2.imread(\"/content/drive/MyDrive/Colab Notebooks/myResearch/input/digits/Digits\" +\"/\"+str(i)+\"/\"+j)\n",
        "    pic = cv2.resize(pic, dsize=(28,28))\n",
        "    data_X.append(pic)\n",
        "    data_y.append(i)\n",
        "\n",
        "\n",
        "if len(data_X) == len(data_y) :\n",
        "  print(\"Total Dataponits = \",len(data_X))\n",
        "\n",
        "# Labels and images\n",
        "data_X = np.array(data_X)\n",
        "data_y = np.array(data_y)"
      ]
    },
    {
      "cell_type": "markdown",
      "metadata": {
        "id": "tp0TSjc-PcmF"
      },
      "source": [
        "<a id=\"4\"></a>\n",
        "# **<span style=\"color:#4686C8;\">SPLITTING DATASET</span>**\n",
        "\n",
        "Splitting the dataset into test, train and validation sets. Preprocessing for the features (images) into grayscale, enhancing it with histogram equalization and then normalizing. Followed by converting then into a NumPy array. further reshaping the image's array and using data augmentation. Preprocessing for the labels involves one-hot encoding the label classes"
      ]
    },
    {
      "cell_type": "code",
      "execution_count": null,
      "metadata": {
        "colab": {
          "base_uri": "https://localhost:8080/",
          "height": 430
        },
        "id": "1Yb3ITV4wrYw",
        "outputId": "ac881833-4ae0-40a6-809c-c3a33caa6af4"
      },
      "outputs": [
        {
          "data": {
            "image/png": "[encoded data removed]",
            "text/plain": [
              "<Figure size 640x480 with 1 Axes>"
            ]
          },
          "metadata": {},
          "output_type": "display_data"
        }
      ],
      "source": [
        "data2 = os.listdir(\"/content/drive/MyDrive/Colab Notebooks/myResearch/input/make_digit\" )\n",
        "data2_classes = len(data2)\n",
        "for i in range (0,1):\n",
        "  data2_list = os.listdir(\"/content/drive/MyDrive/Colab Notebooks/myResearch/input/make_digit\" +\"/make_digit_\"+str(i))\n",
        "  j = data2_list[0]\n",
        "  pic = cv2.imread(\"/content/drive/MyDrive/Colab Notebooks/myResearch/input/make_digit\" +\"/make_digit_\"+str(i)+\"/\"+j)\n",
        "  pic = 255 - pic\n",
        "plt.figure()\n",
        "plt.imshow(pic)\n",
        "plt.show()"
      ]
    },
    {
      "cell_type": "code",
      "execution_count": null,
      "metadata": {
        "colab": {
          "base_uri": "https://localhost:8080/"
        },
        "id": "_XF1f8y20En9",
        "outputId": "4a3a626d-6a99-42a0-9c36-c8630e801f59"
      },
      "outputs": [
        {
          "name": "stdout",
          "output_type": "stream",
          "text": [
            "Total Dataponits =  1650\n"
          ]
        }
      ],
      "source": [
        "data2 = os.listdir(\"/content/drive/MyDrive/Colab Notebooks/myResearch/input/make_digit\" )\n",
        "data2_X = []\n",
        "data2_y = []\n",
        "data2_classes = len(data2)\n",
        "for i in range (0,data2_classes):\n",
        "  data2_list = os.listdir(\"/content/drive/MyDrive/Colab Notebooks/myResearch/input/make_digit\" +\"/make_digit_\"+str(i))\n",
        "  for j in data2_list:\n",
        "    pic = cv2.imread(\"/content/drive/MyDrive/Colab Notebooks/myResearch/input/make_digit\" +\"/make_digit_\"+str(i)+\"/\"+j)\n",
        "    pic = 255 - pic\n",
        "    data2_X.append(pic)\n",
        "    data2_y.append(i)\n",
        "if len(data2_X) == len(data2_y) :\n",
        "  print(\"Total Dataponits = \",len(data2_X))\n"
      ]
    },
    {
      "cell_type": "code",
      "execution_count": null,
      "metadata": {
        "id": "3TXPfc6A0aEn"
      },
      "outputs": [],
      "source": []
    },
    {
      "cell_type": "code",
      "execution_count": null,
      "metadata": {
        "colab": {
          "base_uri": "https://localhost:8080/"
        },
        "id": "ARatTwmEPcmG",
        "outputId": "f69231e3-bca1-4991-a136-81dfa6ef61ac",
        "trusted": true
      },
      "outputs": [
        {
          "name": "stdout",
          "output_type": "stream",
          "text": [
            "Training Set Shape =  (772, 28, 28, 3)\n",
            "Validation Set Shape =  (194, 28, 28, 3)\n",
            "Test Set Shape =  (51, 28, 28, 3)\n",
            "총 데이터 개수 = 1017\n"
          ]
        }
      ],
      "source": [
        "#Spliting the train validation and test sets\n",
        "_, data_X2, _, data_y2 = train_test_split(data_X,data_y,test_size=0.1, random_state = 5)\n",
        "train_X, test_X, train_y, test_y = train_test_split(data_X2,data_y2,test_size=0.05, random_state = 5)\n",
        "\n",
        "# train_X = list(train_X)\n",
        "# train_y = list(train_y)\n",
        "# for i in range(len(data2_X)):\n",
        "#   train_X.append(data2_X[i])\n",
        "#   train_y.append(data2_y[i])\n",
        "# train_X = np.array(train_X)\n",
        "# train_y = np.array(train_y)\n",
        "\n",
        "train_X, valid_X, train_y, valid_y = train_test_split(train_X,train_y,test_size=0.2, random_state = 3)\n",
        "print(\"Training Set Shape = \",train_X.shape)\n",
        "print(\"Validation Set Shape = \",valid_X.shape)\n",
        "print(\"Test Set Shape = \",test_X.shape)\n",
        "print(\"총 데이터 개수 = \" + str(train_X.shape[0] + valid_X.shape[0] + test_X.shape[0]))\n",
        "data_len = train_X.shape[0]"
      ]
    },
    {
      "cell_type": "code",
      "execution_count": null,
      "metadata": {
        "id": "FzI3XF0HPcmG",
        "trusted": true
      },
      "outputs": [],
      "source": [
        "# Preprocessing the images for neuralnet\n",
        "\n",
        "def Prep(img):\n",
        "    img = cv2.cvtColor(img,cv2.COLOR_BGR2GRAY) #making image grayscale\n",
        "    img = cv2.equalizeHist(img) #Histogram equalization to enhance contrast\n",
        "    img = img/255 #normalizing\n",
        "    return img\n",
        "\n",
        "train_X = np.array(list(map(Prep, train_X)))\n",
        "test_X = np.array(list(map(Prep, test_X)))\n",
        "valid_X= np.array(list(map(Prep, valid_X)))\n",
        "\n",
        "#Reshaping the images\n",
        "train_X = train_X.reshape(train_X.shape[0], train_X.shape[1], train_X.shape[2],1)\n",
        "test_X = test_X.reshape(test_X.shape[0], test_X.shape[1], test_X.shape[2],1)\n",
        "valid_X = valid_X.reshape(valid_X.shape[0], valid_X.shape[1], valid_X.shape[2],1)\n",
        "\n",
        "#Augmentation\n",
        "datagen = ImageDataGenerator(width_shift_range=0.1, height_shift_range=0.1, zoom_range=0.2, shear_range=0.1, rotation_range=10)\n",
        "datagen.fit(train_X)"
      ]
    },
    {
      "cell_type": "code",
      "execution_count": null,
      "metadata": {
        "id": "JaolHA8cPcmG",
        "trusted": true
      },
      "outputs": [],
      "source": [
        "# One hot encoding of the labels\n",
        "\n",
        "train_y = to_categorical(train_y, data_classes)\n",
        "test_y = to_categorical(test_y, data_classes)\n",
        "valid_y = to_categorical(valid_y, data_classes)"
      ]
    },
    {
      "cell_type": "markdown",
      "metadata": {
        "id": "5maaCHKKPcmH"
      },
      "source": [
        "<a id=\"5\"></a>\n",
        "# **<span style=\"color:#4686C8;\">MODEL BUILDING</span>**\n",
        "\n",
        "**For the model, I will build a convolutional neural network.**\n",
        "* Initialising the Convnet\n",
        "* Defining by adding layers\n",
        "* Compiling the Convnet\n",
        "* Train the Convnet"
      ]
    },
    {
      "cell_type": "code",
      "execution_count": null,
      "metadata": {
        "colab": {
          "base_uri": "https://localhost:8080/"
        },
        "id": "Zut6NWQvPcmH",
        "outputId": "4d9dbf6a-647f-4018-dda8-3fc31c9a5ea9",
        "trusted": true
      },
      "outputs": [
        {
          "name": "stdout",
          "output_type": "stream",
          "text": [
            "Model: \"sequential_12\"\n",
            "_________________________________________________________________\n",
            " Layer (type)                Output Shape              Param #   \n",
            "=================================================================\n",
            " conv2d_48 (Conv2D)          (None, 28, 28, 60)        1560      \n",
            "                                                                 \n",
            " conv2d_49 (Conv2D)          (None, 28, 28, 60)        90060     \n",
            "                                                                 \n",
            " max_pooling2d_24 (MaxPooli  (None, 14, 14, 60)        0         \n",
            " ng2D)                                                           \n",
            "                                                                 \n",
            " conv2d_50 (Conv2D)          (None, 14, 14, 30)        16230     \n",
            "                                                                 \n",
            " conv2d_51 (Conv2D)          (None, 14, 14, 30)        8130      \n",
            "                                                                 \n",
            " max_pooling2d_25 (MaxPooli  (None, 7, 7, 30)          0         \n",
            " ng2D)                                                           \n",
            "                                                                 \n",
            " dropout_24 (Dropout)        (None, 7, 7, 30)          0         \n",
            "                                                                 \n",
            " flatten_12 (Flatten)        (None, 1470)              0         \n",
            "                                                                 \n",
            " dense_24 (Dense)            (None, 500)               735500    \n",
            "                                                                 \n",
            " dropout_25 (Dropout)        (None, 500)               0         \n",
            "                                                                 \n",
            " dense_25 (Dense)            (None, 10)                5010      \n",
            "                                                                 \n",
            "=================================================================\n",
            "Total params: 856490 (3.27 MB)\n",
            "Trainable params: 856490 (3.27 MB)\n",
            "Non-trainable params: 0 (0.00 Byte)\n",
            "_________________________________________________________________\n"
          ]
        }
      ],
      "source": [
        "#Creating a Neural Network\n",
        "\n",
        "model = Sequential()\n",
        "\n",
        "model.add((Conv2D(60,(5,5),input_shape=(28, 28, 1) ,padding = 'Same' ,activation='relu')))\n",
        "model.add((Conv2D(60, (5,5),padding=\"same\",activation='relu')))\n",
        "model.add(MaxPooling2D(pool_size=(2,2)))\n",
        "#model.add(Dropout(0.25))\n",
        "\n",
        "model.add((Conv2D(30, (3,3),padding=\"same\", activation='relu')))\n",
        "model.add((Conv2D(30, (3,3), padding=\"same\", activation='relu')))\n",
        "model.add(MaxPooling2D(pool_size=(2,2), strides=(2,2)))\n",
        "model.add(Dropout(0.5))\n",
        "\n",
        "model.add(Flatten())\n",
        "model.add(Dense(500,activation='relu'))\n",
        "model.add(Dropout(0.5))\n",
        "model.add(Dense(10, activation='softmax'))\n",
        "\n",
        "model.summary()\n"
      ]
    },
    {
      "cell_type": "code",
      "execution_count": null,
      "metadata": {
        "colab": {
          "base_uri": "https://localhost:8080/"
        },
        "id": "lmchR7j2rZgz",
        "outputId": "0eae7ef6-8e7f-4d6f-9c19-c8cac1e435bf"
      },
      "outputs": [
        {
          "data": {
            "text/plain": [
              "2092"
            ]
          },
          "execution_count": 122,
          "metadata": {},
          "output_type": "execute_result"
        }
      ],
      "source": [
        "data_len"
      ]
    },
    {
      "cell_type": "code",
      "execution_count": null,
      "metadata": {
        "id": "HiMabWMTlgta"
      },
      "outputs": [],
      "source": [
        "def modelplot(history, data, val_data):\n",
        "  plt.plot(history.history[data])\n",
        "  plt.plot(history.history[val_data])\n",
        "  plt.title('Model'+ data)\n",
        "  plt.ylabel(data)\n",
        "  plt.xlabel('epoch')\n",
        "  plt.legend(['train', 'test'])\n",
        "  plt.show()"
      ]
    },
    {
      "cell_type": "code",
      "execution_count": null,
      "metadata": {
        "colab": {
          "base_uri": "https://localhost:8080/"
        },
        "id": "Q0H84MkJuRSl",
        "outputId": "4cc2205e-541f-4581-f4b3-5dfb788cf27e"
      },
      "outputs": [
        {
          "name": "stdout",
          "output_type": "stream",
          "text": [
            "Epoch 1/30\n",
            "65/65 - 3s - loss: 1.0040 - accuracy: 0.6587 - val_loss: 0.1883 - val_accuracy: 0.9542 - 3s/epoch - 40ms/step\n",
            "Epoch 2/30\n",
            "65/65 - 1s - loss: 0.2112 - accuracy: 0.9364 - val_loss: 0.0964 - val_accuracy: 0.9733 - 516ms/epoch - 8ms/step\n",
            "Epoch 3/30\n",
            "65/65 - 0s - loss: 0.1371 - accuracy: 0.9602 - val_loss: 0.0563 - val_accuracy: 0.9866 - 498ms/epoch - 8ms/step\n",
            "Epoch 4/30\n",
            "65/65 - 1s - loss: 0.0970 - accuracy: 0.9689 - val_loss: 0.1007 - val_accuracy: 0.9752 - 521ms/epoch - 8ms/step\n",
            "Epoch 5/30\n",
            "65/65 - 1s - loss: 0.0832 - accuracy: 0.9757 - val_loss: 0.0414 - val_accuracy: 0.9866 - 592ms/epoch - 9ms/step\n",
            "Epoch 6/30\n",
            "65/65 - 1s - loss: 0.0588 - accuracy: 0.9816 - val_loss: 0.0390 - val_accuracy: 0.9905 - 601ms/epoch - 9ms/step\n",
            "Epoch 7/30\n",
            "65/65 - 1s - loss: 0.0486 - accuracy: 0.9854 - val_loss: 0.0468 - val_accuracy: 0.9866 - 543ms/epoch - 8ms/step\n",
            "Epoch 8/30\n",
            "65/65 - 0s - loss: 0.0485 - accuracy: 0.9869 - val_loss: 0.0614 - val_accuracy: 0.9790 - 464ms/epoch - 7ms/step\n",
            "Epoch 9/30\n",
            "65/65 - 0s - loss: 0.0462 - accuracy: 0.9869 - val_loss: 0.0439 - val_accuracy: 0.9905 - 413ms/epoch - 6ms/step\n",
            "Epoch 10/30\n",
            "65/65 - 0s - loss: 0.0346 - accuracy: 0.9888 - val_loss: 0.0365 - val_accuracy: 0.9885 - 429ms/epoch - 7ms/step\n",
            "Epoch 11/30\n",
            "65/65 - 0s - loss: 0.0380 - accuracy: 0.9888 - val_loss: 0.0212 - val_accuracy: 0.9905 - 405ms/epoch - 6ms/step\n",
            "Epoch 12/30\n",
            "65/65 - 0s - loss: 0.0316 - accuracy: 0.9913 - val_loss: 0.0342 - val_accuracy: 0.9905 - 417ms/epoch - 6ms/step\n",
            "Epoch 13/30\n",
            "65/65 - 0s - loss: 0.0308 - accuracy: 0.9883 - val_loss: 0.0149 - val_accuracy: 0.9962 - 424ms/epoch - 7ms/step\n",
            "Epoch 14/30\n",
            "65/65 - 0s - loss: 0.0253 - accuracy: 0.9937 - val_loss: 0.0241 - val_accuracy: 0.9943 - 407ms/epoch - 6ms/step\n",
            "Epoch 15/30\n",
            "65/65 - 0s - loss: 0.0276 - accuracy: 0.9883 - val_loss: 0.0417 - val_accuracy: 0.9885 - 410ms/epoch - 6ms/step\n",
            "Epoch 16/30\n",
            "65/65 - 0s - loss: 0.0383 - accuracy: 0.9922 - val_loss: 0.0249 - val_accuracy: 0.9885 - 403ms/epoch - 6ms/step\n",
            "Epoch 17/30\n",
            "65/65 - 0s - loss: 0.0258 - accuracy: 0.9917 - val_loss: 0.0235 - val_accuracy: 0.9885 - 423ms/epoch - 7ms/step\n",
            "Epoch 18/30\n",
            "65/65 - 0s - loss: 0.0036 - accuracy: 0.9990 - val_loss: 0.0247 - val_accuracy: 0.9943 - 409ms/epoch - 6ms/step\n",
            "Epoch 19/30\n",
            "65/65 - 0s - loss: 0.0269 - accuracy: 0.9932 - val_loss: 0.0129 - val_accuracy: 0.9981 - 438ms/epoch - 7ms/step\n",
            "Epoch 20/30\n",
            "65/65 - 0s - loss: 0.0198 - accuracy: 0.9947 - val_loss: 0.0463 - val_accuracy: 0.9905 - 422ms/epoch - 6ms/step\n",
            "Epoch 21/30\n",
            "65/65 - 0s - loss: 0.0157 - accuracy: 0.9956 - val_loss: 0.0253 - val_accuracy: 0.9924 - 430ms/epoch - 7ms/step\n",
            "Epoch 22/30\n",
            "65/65 - 0s - loss: 0.0094 - accuracy: 0.9971 - val_loss: 0.0462 - val_accuracy: 0.9905 - 421ms/epoch - 6ms/step\n",
            "Epoch 23/30\n",
            "65/65 - 0s - loss: 0.0059 - accuracy: 0.9981 - val_loss: 0.0309 - val_accuracy: 0.9905 - 406ms/epoch - 6ms/step\n",
            "Epoch 24/30\n",
            "65/65 - 0s - loss: 0.0109 - accuracy: 0.9976 - val_loss: 0.0392 - val_accuracy: 0.9924 - 430ms/epoch - 7ms/step\n",
            "Epoch 25/30\n",
            "65/65 - 0s - loss: 0.0142 - accuracy: 0.9976 - val_loss: 0.0200 - val_accuracy: 0.9943 - 403ms/epoch - 6ms/step\n",
            "Epoch 26/30\n",
            "65/65 - 0s - loss: 0.0223 - accuracy: 0.9956 - val_loss: 0.0196 - val_accuracy: 0.9943 - 417ms/epoch - 6ms/step\n",
            "Epoch 27/30\n",
            "65/65 - 0s - loss: 0.0186 - accuracy: 0.9951 - val_loss: 0.0356 - val_accuracy: 0.9943 - 413ms/epoch - 6ms/step\n",
            "Epoch 28/30\n",
            "65/65 - 0s - loss: 0.0091 - accuracy: 0.9976 - val_loss: 0.0174 - val_accuracy: 0.9924 - 424ms/epoch - 7ms/step\n",
            "Epoch 29/30\n",
            "65/65 - 0s - loss: 0.0091 - accuracy: 0.9966 - val_loss: 0.0193 - val_accuracy: 0.9924 - 419ms/epoch - 6ms/step\n",
            "Epoch 30/30\n",
            "65/65 - 0s - loss: 0.0092 - accuracy: 0.9976 - val_loss: 0.0498 - val_accuracy: 0.9885 - 423ms/epoch - 7ms/step\n"
          ]
        }
      ],
      "source": [
        "#Compiling the model\n",
        "\n",
        "optimizer = RMSprop(learning_rate=0.001, rho=0.9, epsilon = 1e-08, weight_decay=0.0)\n",
        "model.compile(optimizer=optimizer,loss='categorical_crossentropy',metrics=['accuracy'])\n",
        "\n",
        "#Fit the model\n",
        "\n",
        "history2 = model.fit(train_X, train_y, batch_size=32, epochs = 30, validation_data = (valid_X, valid_y), verbose = 2, steps_per_epoch=65)"
      ]
    },
    {
      "cell_type": "code",
      "execution_count": null,
      "metadata": {
        "colab": {
          "base_uri": "https://localhost:8080/",
          "height": 472
        },
        "id": "SkSVQG9VuTup",
        "outputId": "b5a3f4c3-d690-45cb-d957-a0be64c95bd6"
      },
      "outputs": [
        {
          "data": {
            "image/png": "[encoded data removed]",
            "text/plain": [
              "<Figure size 640x480 with 1 Axes>"
            ]
          },
          "metadata": {},
          "output_type": "display_data"
        }
      ],
      "source": [
        "modelplot(history2, 'loss', 'val_loss')"
      ]
    },
    {
      "cell_type": "code",
      "execution_count": null,
      "metadata": {
        "colab": {
          "base_uri": "https://localhost:8080/",
          "height": 472
        },
        "id": "JtnNVzEzuWaj",
        "outputId": "4c14c1d7-dbf1-457a-e954-e40cca4f4cca"
      },
      "outputs": [
        {
          "data": {
            "image/png": "[encoded data removed]",
            "text/plain": [
              "<Figure size 640x480 with 1 Axes>"
            ]
          },
          "metadata": {},
          "output_type": "display_data"
        }
      ],
      "source": [
        "modelplot(history2, 'accuracy', 'val_accuracy')"
      ]
    },
    {
      "cell_type": "code",
      "execution_count": null,
      "metadata": {
        "colab": {
          "base_uri": "https://localhost:8080/"
        },
        "id": "5pMlaccKuc5R",
        "outputId": "11d1b3f6-fadb-4b3a-a532-c020f867cbff"
      },
      "outputs": [
        {
          "name": "stdout",
          "output_type": "stream",
          "text": [
            "Test Score =  0.22906085848808289\n",
            "Test Accuracy = 0.9607843160629272\n"
          ]
        }
      ],
      "source": [
        "# Testing the model on the test set\n",
        "\n",
        "score = model.evaluate(test_X, test_y, verbose=0)\n",
        "print('Test Score = ',score[0])\n",
        "print('Test Accuracy =', score[1])"
      ]
    },
    {
      "cell_type": "code",
      "execution_count": null,
      "metadata": {
        "id": "ugr32hCw5CEm"
      },
      "outputs": [],
      "source": [
        "#Creating a Neural Network\n",
        "\n",
        "model = Sequential()\n",
        "\n",
        "model.add((Conv2D(60,(5,5),input_shape=(28, 28, 1) ,padding = 'Same' ,activation='relu')))\n",
        "model.add((Conv2D(60, (5,5),padding=\"same\",activation='relu')))\n",
        "model.add(MaxPooling2D(pool_size=(2,2)))\n",
        "#model.add(Dropout(0.25))\n",
        "\n",
        "model.add((Conv2D(30, (3,3),padding=\"same\", activation='relu')))\n",
        "model.add((Conv2D(30, (3,3), padding=\"same\", activation='relu')))\n",
        "model.add(MaxPooling2D(pool_size=(2,2), strides=(2,2)))\n",
        "model.add(Dropout(0.5))\n",
        "\n",
        "model.add(Flatten())\n",
        "model.add(Dense(500,activation='relu'))\n",
        "model.add(Dropout(0.5))\n",
        "model.add(Dense(10, activation='softmax'))\n",
        "\n",
        "model.summary()\n"
      ]
    },
    {
      "cell_type": "code",
      "execution_count": null,
      "metadata": {
        "_kg_hide-output": true,
        "colab": {
          "base_uri": "https://localhost:8080/"
        },
        "id": "BDBBLwWZPcmI",
        "outputId": "df915ec9-cdd5-4ccd-8173-e60c18e50698",
        "trusted": true
      },
      "outputs": [
        {
          "name": "stdout",
          "output_type": "stream",
          "text": [
            "Epoch 1/30\n",
            "24/24 - 3s - loss: 2.3249 - accuracy: 0.1354 - val_loss: 2.0532 - val_accuracy: 0.4175 - 3s/epoch - 124ms/step\n",
            "Epoch 2/30\n",
            "24/24 - 0s - loss: 1.2617 - accuracy: 0.5743 - val_loss: 0.5086 - val_accuracy: 0.8196 - 208ms/epoch - 9ms/step\n",
            "Epoch 3/30\n",
            "24/24 - 0s - loss: 0.6231 - accuracy: 0.8108 - val_loss: 0.1961 - val_accuracy: 0.9433 - 239ms/epoch - 10ms/step\n",
            "Epoch 4/30\n",
            "24/24 - 0s - loss: 0.3112 - accuracy: 0.8770 - val_loss: 0.3068 - val_accuracy: 0.8660 - 233ms/epoch - 10ms/step\n",
            "Epoch 5/30\n",
            "24/24 - 0s - loss: 0.2795 - accuracy: 0.9054 - val_loss: 0.1725 - val_accuracy: 0.9330 - 270ms/epoch - 11ms/step\n",
            "Epoch 6/30\n",
            "24/24 - 0s - loss: 0.2085 - accuracy: 0.9392 - val_loss: 0.1194 - val_accuracy: 0.9588 - 226ms/epoch - 9ms/step\n",
            "Epoch 7/30\n",
            "24/24 - 0s - loss: 0.1646 - accuracy: 0.9473 - val_loss: 0.1480 - val_accuracy: 0.9485 - 248ms/epoch - 10ms/step\n",
            "Epoch 8/30\n",
            "24/24 - 0s - loss: 0.1199 - accuracy: 0.9581 - val_loss: 0.1088 - val_accuracy: 0.9691 - 236ms/epoch - 10ms/step\n",
            "Epoch 9/30\n",
            "24/24 - 0s - loss: 0.1106 - accuracy: 0.9581 - val_loss: 0.0989 - val_accuracy: 0.9639 - 224ms/epoch - 9ms/step\n",
            "Epoch 10/30\n",
            "24/24 - 0s - loss: 0.0919 - accuracy: 0.9797 - val_loss: 0.0768 - val_accuracy: 0.9639 - 213ms/epoch - 9ms/step\n",
            "Epoch 11/30\n",
            "24/24 - 0s - loss: 0.1029 - accuracy: 0.9635 - val_loss: 0.1578 - val_accuracy: 0.9536 - 220ms/epoch - 9ms/step\n",
            "Epoch 12/30\n",
            "24/24 - 0s - loss: 0.0954 - accuracy: 0.9662 - val_loss: 0.0552 - val_accuracy: 0.9845 - 249ms/epoch - 10ms/step\n",
            "Epoch 13/30\n",
            "24/24 - 0s - loss: 0.0714 - accuracy: 0.9811 - val_loss: 0.0774 - val_accuracy: 0.9691 - 252ms/epoch - 10ms/step\n",
            "Epoch 14/30\n",
            "24/24 - 0s - loss: 0.0470 - accuracy: 0.9811 - val_loss: 0.0909 - val_accuracy: 0.9742 - 217ms/epoch - 9ms/step\n",
            "Epoch 15/30\n",
            "24/24 - 0s - loss: 0.0392 - accuracy: 0.9851 - val_loss: 0.1090 - val_accuracy: 0.9691 - 252ms/epoch - 11ms/step\n",
            "Epoch 16/30\n",
            "24/24 - 0s - loss: 0.0502 - accuracy: 0.9838 - val_loss: 0.1495 - val_accuracy: 0.9742 - 210ms/epoch - 9ms/step\n",
            "Epoch 17/30\n",
            "24/24 - 0s - loss: 0.0385 - accuracy: 0.9878 - val_loss: 0.0759 - val_accuracy: 0.9742 - 221ms/epoch - 9ms/step\n",
            "Epoch 18/30\n",
            "24/24 - 0s - loss: 0.0501 - accuracy: 0.9851 - val_loss: 0.1046 - val_accuracy: 0.9794 - 208ms/epoch - 9ms/step\n",
            "Epoch 19/30\n",
            "24/24 - 0s - loss: 0.0302 - accuracy: 0.9892 - val_loss: 0.1006 - val_accuracy: 0.9794 - 250ms/epoch - 10ms/step\n",
            "Epoch 20/30\n",
            "24/24 - 0s - loss: 0.0486 - accuracy: 0.9838 - val_loss: 0.1237 - val_accuracy: 0.9691 - 222ms/epoch - 9ms/step\n",
            "Epoch 21/30\n",
            "24/24 - 0s - loss: 0.0431 - accuracy: 0.9905 - val_loss: 0.1275 - val_accuracy: 0.9691 - 229ms/epoch - 10ms/step\n",
            "Epoch 22/30\n",
            "24/24 - 0s - loss: 0.0350 - accuracy: 0.9878 - val_loss: 0.0909 - val_accuracy: 0.9794 - 216ms/epoch - 9ms/step\n",
            "Epoch 23/30\n",
            "24/24 - 0s - loss: 0.0204 - accuracy: 0.9932 - val_loss: 0.1092 - val_accuracy: 0.9794 - 202ms/epoch - 8ms/step\n",
            "Epoch 24/30\n",
            "24/24 - 0s - loss: 0.0241 - accuracy: 0.9919 - val_loss: 0.1259 - val_accuracy: 0.9742 - 196ms/epoch - 8ms/step\n",
            "Epoch 25/30\n",
            "24/24 - 0s - loss: 0.0555 - accuracy: 0.9838 - val_loss: 0.1311 - val_accuracy: 0.9742 - 234ms/epoch - 10ms/step\n",
            "Epoch 26/30\n",
            "24/24 - 0s - loss: 0.0313 - accuracy: 0.9896 - val_loss: 0.1968 - val_accuracy: 0.9742 - 250ms/epoch - 10ms/step\n",
            "Epoch 27/30\n",
            "24/24 - 0s - loss: 0.0237 - accuracy: 0.9919 - val_loss: 0.1743 - val_accuracy: 0.9742 - 244ms/epoch - 10ms/step\n",
            "Epoch 28/30\n",
            "24/24 - 0s - loss: 0.0068 - accuracy: 0.9973 - val_loss: 0.2134 - val_accuracy: 0.9742 - 245ms/epoch - 10ms/step\n",
            "Epoch 29/30\n",
            "24/24 - 0s - loss: 0.0551 - accuracy: 0.9784 - val_loss: 0.2149 - val_accuracy: 0.9742 - 196ms/epoch - 8ms/step\n",
            "Epoch 30/30\n",
            "24/24 - 0s - loss: 0.0466 - accuracy: 0.9878 - val_loss: 0.1432 - val_accuracy: 0.9691 - 171ms/epoch - 7ms/step\n"
          ]
        }
      ],
      "source": [
        "#Compiling the model\n",
        "\n",
        "optimizer = RMSprop(learning_rate=0.001, rho=0.9, epsilon = 1e-08, weight_decay=0.0)\n",
        "model.compile(optimizer=optimizer,loss='categorical_crossentropy',metrics=['accuracy'])\n",
        "\n",
        "#Fit the model\n",
        "\n",
        "history = model.fit(train_X, train_y, batch_size=32,\n",
        "                              epochs = 30, validation_data = (valid_X, valid_y),\n",
        "                              verbose = 2, steps_per_epoch= int(data_len/30)-1)"
      ]
    },
    {
      "cell_type": "code",
      "execution_count": null,
      "metadata": {
        "colab": {
          "base_uri": "https://localhost:8080/",
          "height": 472
        },
        "id": "9nj431YqnBYB",
        "outputId": "8f5adde8-2fad-484b-d05a-658b430109c3"
      },
      "outputs": [
        {
          "data": {
            "image/png": "[encoded data removed]",
            "text/plain": [
              "<Figure size 640x480 with 1 Axes>"
            ]
          },
          "metadata": {},
          "output_type": "display_data"
        }
      ],
      "source": [
        "modelplot(history, 'loss', 'val_loss')"
      ]
    },
    {
      "cell_type": "code",
      "execution_count": null,
      "metadata": {
        "colab": {
          "base_uri": "https://localhost:8080/",
          "height": 472
        },
        "id": "rDaEC84bnBpd",
        "outputId": "7e597183-ed2f-48ac-e82a-ab921f009de7"
      },
      "outputs": [
        {
          "data": {
            "image/png": "[encoded data removed]",
            "text/plain": [
              "<Figure size 640x480 with 1 Axes>"
            ]
          },
          "metadata": {},
          "output_type": "display_data"
        }
      ],
      "source": [
        "modelplot(history, 'accuracy', 'val_accuracy')"
      ]
    },
    {
      "cell_type": "code",
      "execution_count": null,
      "metadata": {
        "colab": {
          "base_uri": "https://localhost:8080/"
        },
        "id": "kKgZSwbdPcmI",
        "outputId": "94e1c73b-1f97-4d60-f853-f5f027202aae",
        "trusted": true
      },
      "outputs": [
        {
          "name": "stdout",
          "output_type": "stream",
          "text": [
            "Test Score =  0.10716555267572403\n",
            "Test Accuracy = 0.9411764740943909\n"
          ]
        }
      ],
      "source": [
        "# Testing the model on the test set\n",
        "\n",
        "score = model.evaluate(test_X, test_y, verbose=0)\n",
        "print('Test Score = ',score[0])\n",
        "print('Test Accuracy =', score[1])"
      ]
    }
  ],
  "metadata": {
    "accelerator": "GPU",
    "colab": {
      "gpuType": "T4",
      "provenance": []
    },
    "kernelspec": {
      "display_name": "Python 3",
      "name": "python3"
    },
    "language_info": {
      "codemirror_mode": {
        "name": "ipython",
        "version": 3
      },
      "file_extension": ".py",
      "mimetype": "text/x-python",
      "name": "python",
      "nbconvert_exporter": "python",
      "pygments_lexer": "ipython3",
      "version": "3.11.4"
    }
  },
  "nbformat": 4,
  "nbformat_minor": 0
}